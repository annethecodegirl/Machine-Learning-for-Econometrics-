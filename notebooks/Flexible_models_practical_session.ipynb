{
  "cells": [
    {
      "cell_type": "markdown",
      "metadata": {
        "id": "view-in-github",
        "colab_type": "text"
      },
      "source": [
        "<a href=\"https://colab.research.google.com/github/annethecodegirl/Machine-Learning-for-Econometrics-/blob/main/Flexible_models_practical_session.ipynb\" target=\"_parent\"><img src=\"https://colab.research.google.com/assets/colab-badge.svg\" alt=\"Open In Colab\"/></a>"
      ]
    },
    {
      "cell_type": "markdown",
      "id": "8b744fdc",
      "metadata": {
        "lines_to_next_cell": 0,
        "id": "8b744fdc"
      },
      "source": [
        "\n",
        "The aim of the exercise is to get familiar with the histogram gradient-boosting in scikit-learn. Besides, we will use this model within a cross-validation framework in order to inspect internal parameters found via grid-search.\n",
        "\n",
        "We will use the California housing dataset."
      ]
    },
    {
      "cell_type": "code",
      "execution_count": null,
      "id": "4378757e",
      "metadata": {
        "id": "4378757e"
      },
      "outputs": [],
      "source": [
        "from sklearn.datasets import fetch_california_housing\n",
        "\n",
        "data, target = fetch_california_housing(return_X_y=True, as_frame=True)\n",
        "target *= 100  # rescale the target in k$"
      ]
    },
    {
      "cell_type": "markdown",
      "id": "0dbca925",
      "metadata": {
        "id": "0dbca925"
      },
      "source": [
        "### 📝 TODO: First, create a histogram gradient boosting regressor. You can set the trees number to be large, and configure the model to use early-stopping."
      ]
    },
    {
      "cell_type": "code",
      "execution_count": null,
      "id": "325dd56d",
      "metadata": {
        "lines_to_next_cell": 0,
        "id": "325dd56d"
      },
      "outputs": [],
      "source": [
        "from sklearn.ensemble import HistGradientBoostingRegressor\n",
        "hist_gbdt = HistGradientBoostingRegressor(\n",
        "    max_iter=1000, early_stopping=True, random_state=0\n",
        ")"
      ]
    },
    {
      "cell_type": "markdown",
      "id": "473e9a5f",
      "metadata": {
        "lines_to_next_cell": 0,
        "id": "473e9a5f"
      },
      "source": [
        "### 📝 TODO: Use `RandomizedSearchCV` with `n_iter=20` to find the best set of\n",
        "hyperparameters by tuning the following parameters of the `model`:\n",
        "- max_depth: [3, 8];\n",
        "- max_leaf_nodes: [15, 31];\n",
        "- learning_rate: [0.1, 1].\n",
        "\n",
        "Notice that in the notebook \"Hyperparameter tuning by randomized-search\" we\n",
        "pass distributions to be sampled by the `RandomizedSearchCV`. In this case we\n",
        "define a fixed grid of hyperparameters to be explored. Using a `GridSearchCV`\n",
        "instead would explore all the possible combinations on the grid, which can be\n",
        "costly to compute for large grids, whereas the parameter `n_iter` of the\n",
        "`RandomizedSearchCV` controls the number of different random combination that\n",
        "are evaluated. Notice that setting `n_iter` larger than the number of possible\n",
        "combinations in a grid would lead to repeating\n",
        "already-explored combinations. Here, this can't happen since the learning rate is sampled from a uniform so the number of possible combinations is infinite."
      ]
    },
    {
      "cell_type": "code",
      "execution_count": null,
      "id": "96d4dc06",
      "metadata": {
        "lines_to_next_cell": 0,
        "id": "96d4dc06"
      },
      "outputs": [],
      "source": [
        "from sklearn.model_selection import RandomizedSearchCV\n",
        "from scipy.stats import uniform, randint\n",
        "# CODE HERE\n",
        "param_distributions = {\"max_depth\": [3, 8],\n",
        "    \"max_leaf_nodes\": [15, 31],\n",
        "    \"learning_rate\": [0.1, 1],}\n",
        "\n",
        "model_random_search = RandomizedSearchCV(hist_gbdt, param_distributions)"
      ]
    },
    {
      "cell_type": "markdown",
      "id": "829d12ca",
      "metadata": {
        "lines_to_next_cell": 0,
        "id": "829d12ca"
      },
      "source": [
        "📝 TODO: Secondly, we will run our experiment through cross-validation. In this regard, define a 5-fold cross-validation. Besides, be sure to shuffle the data. Subsequently, use the function sklearn.model_selection.cross_validate to run the cross-validation. You should also set return_estimator=True, so that we can investigate the inner model trained via cross-validation."
      ]
    },
    {
      "cell_type": "code",
      "execution_count": null,
      "id": "04903309",
      "metadata": {
        "lines_to_next_cell": 0,
        "id": "04903309"
      },
      "outputs": [],
      "source": [
        "from sklearn.model_selection import cross_validate, KFold\n",
        "# CODE HERE\n",
        "cv = KFold(n_splits=5, shuffle=True, random_state=0)\n",
        "results = cross_validate(\n",
        "    model_random_search, data, target, cv=cv, return_estimator=True, n_jobs=2\n",
        ")"
      ]
    },
    {
      "cell_type": "markdown",
      "id": "cbe3442d",
      "metadata": {
        "lines_to_next_cell": 0,
        "id": "cbe3442d"
      },
      "source": [
        "### 📝 TODO: Now that we got the cross-validation results, print out the mean and standard deviation score."
      ]
    },
    {
      "cell_type": "code",
      "execution_count": null,
      "id": "aad3c966",
      "metadata": {
        "lines_to_next_cell": 0,
        "colab": {
          "base_uri": "https://localhost:8080/"
        },
        "id": "aad3c966",
        "outputId": "0cc31425-cb2f-4317-d38d-3d191b43bb88"
      },
      "outputs": [
        {
          "output_type": "stream",
          "name": "stdout",
          "text": [
            "0.839, 0.006\n"
          ]
        }
      ],
      "source": [
        "cv_mean, cv_sd = results['test_score'].mean(), results['test_score'].std()\n",
        "print(f\"{cv_mean:.3f}, {cv_sd:.3f}\")"
      ]
    },
    {
      "cell_type": "markdown",
      "id": "102110b3",
      "metadata": {
        "lines_to_next_cell": 0,
        "id": "102110b3"
      },
      "source": [
        "### 📝 TODO: Then inspect the estimator entry of the results and check the best parameters values. Besides, check the number of trees used by the model."
      ]
    },
    {
      "cell_type": "code",
      "execution_count": null,
      "id": "aa72401a",
      "metadata": {
        "lines_to_next_cell": 0,
        "colab": {
          "base_uri": "https://localhost:8080/"
        },
        "id": "aa72401a",
        "outputId": "770fed24-6288-4c3f-a132-812ffb037123"
      },
      "outputs": [
        {
          "output_type": "stream",
          "name": "stdout",
          "text": [
            "{'max_leaf_nodes': 15, 'max_depth': 3, 'learning_rate': 0.1}\n",
            "# trees: 528\n",
            "{'max_leaf_nodes': 15, 'max_depth': 8, 'learning_rate': 0.1}\n",
            "# trees: 447\n",
            "{'max_leaf_nodes': 15, 'max_depth': 3, 'learning_rate': 0.1}\n",
            "# trees: 576\n",
            "{'max_leaf_nodes': 15, 'max_depth': 8, 'learning_rate': 0.1}\n",
            "# trees: 290\n",
            "{'max_leaf_nodes': 15, 'max_depth': 8, 'learning_rate': 0.1}\n",
            "# trees: 414\n"
          ]
        }
      ],
      "source": [
        "# CODE HERE\n",
        "for estimator in results[\"estimator\"]:\n",
        "    print(estimator.best_params_)\n",
        "    print(f\"# trees: {estimator.best_estimator_.n_iter_}\")"
      ]
    },
    {
      "cell_type": "markdown",
      "id": "3d990891",
      "metadata": {
        "lines_to_next_cell": 0,
        "id": "3d990891"
      },
      "source": [
        "### 📝 TODO: Inspect the results of the inner CV for each estimator of the outer CV. Aggregate the mean test score for each parameter combination and make a box plot of these scores."
      ]
    },
    {
      "cell_type": "code",
      "execution_count": null,
      "id": "ee14cc8d",
      "metadata": {
        "lines_to_next_cell": 0,
        "id": "ee14cc8d"
      },
      "outputs": [],
      "source": [
        "import pandas as pd\n",
        "index_columns = [f\"param_{name}\" for name in param_distributions.keys()]\n",
        "columns = index_columns + [\"mean_test_score\"]\n",
        "inner_cv_results = []\n",
        "for cv_ix, estimator in enumerate(results[\"estimator\"]):\n",
        "    search_cv_results = pd.DataFrame(estimator.cv_results_)\n",
        "    search_cv_results = search_cv_results[columns].set_index(index_columns)\n",
        "    search_cv_results = search_cv_results.rename(\n",
        "        columns={\"mean_test_score\": f\"CV {cv_ix}\"}\n",
        "    )\n",
        "    inner_cv_results.append(search_cv_results)\n",
        "\n",
        "inner_cv_results = pd.concat(inner_cv_results, axis=1).T"
      ]
    },
    {
      "cell_type": "code",
      "execution_count": null,
      "id": "8a172b5c",
      "metadata": {
        "lines_to_next_cell": 0,
        "colab": {
          "base_uri": "https://localhost:8080/",
          "height": 513
        },
        "id": "8a172b5c",
        "outputId": "6596a1ae-9f52-4304-92fa-908870ee2c0e"
      },
      "outputs": [
        {
          "output_type": "display_data",
          "data": {
            "text/plain": [
              "<Figure size 640x480 with 1 Axes>"
            ],
            "image/png": "[encoded data removed]"
          },
          "metadata": {}
        }
      ],
      "source": [
        "import matplotlib.pyplot as plt\n",
        "\n",
        "# Sort the inner_cv_results by the mean of the columns\n",
        "sorted_inner_cv_results = inner_cv_results.mean().sort_values().index\n",
        "inner_cv_results = inner_cv_results[sorted_inner_cv_results]\n",
        "\n",
        "color = {\"whiskers\": \"black\", \"medians\": \"black\", \"caps\": \"black\"}\n",
        "inner_cv_results.plot.box(vert=False, color=color)\n",
        "plt.xlabel(\"R2 score\")\n",
        "plt.ylabel(\"Parameters\")\n",
        "_ = plt.title(\n",
        "    \"Inner CV results with parameters\\n\" \"(max_depth, max_leaf_nodes, learning_rate)\"\n",
        ")"
      ]
    },
    {
      "cell_type": "markdown",
      "id": "f5e1ce0a",
      "metadata": {
        "id": "f5e1ce0a"
      },
      "source": [
        "We see that the first 4 ranked set of parameters are very close. We could select any of these 4 combinations. It coincides with the results we observe when inspecting the best parameters of the outer CV."
      ]
    }
  ],
  "metadata": {
    "jupytext": {
      "main_language": "python"
    },
    "kernelspec": {
      "display_name": "Python 3",
      "name": "python3"
    },
    "colab": {
      "provenance": [],
      "include_colab_link": true
    }
  },
  "nbformat": 4,
  "nbformat_minor": 5
}
